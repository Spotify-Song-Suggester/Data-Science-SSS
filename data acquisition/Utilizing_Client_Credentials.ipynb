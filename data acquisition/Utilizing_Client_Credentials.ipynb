{
 "cells": [
  {
   "cell_type": "code",
   "execution_count": 2,
   "metadata": {},
   "outputs": [
    {
     "name": "stdout",
     "output_type": "stream",
     "text": [
      "CPU times: user 3 µs, sys: 1 µs, total: 4 µs\n",
      "Wall time: 5.96 µs\n"
     ]
    }
   ],
   "source": [
    "%time\n",
    "\n",
    "import os\n",
    "import sys\n",
    "import json\n",
    "import spotipy\n",
    "import webbrowser\n",
    "import spotipy.util as util\n",
    "from json.decoder import JSONDecodeError\n",
    "import pandas as pd\n",
    "from env_vars import *\n",
    "\n",
    "# ps. REDIRECT_URI is crucial here. if http://localhost:8000 is not set, or with a single '/' misplaced, it will generate a connection error.\n",
    "\n",
    "# then pass them:\n",
    "\n",
    "\n",
    "# def authorize():\n",
    "#     token = util.prompt_for_user_token(username = SPOTIFYUSERNAME, \n",
    "#                                        scope = SCOPE, \n",
    "#                                        client_id = CLIENT_ID, \n",
    "#                                        client_secret = CLIENT_SECRET, \n",
    "#                                        redirect_uri = REDIRECT_URI)\n",
    "#     if token:\n",
    "#        sp = spotipy.Spotify(auth=token)"
   ]
  },
  {
   "cell_type": "code",
   "execution_count": 3,
   "metadata": {},
   "outputs": [],
   "source": [
    "# !pip install python-oath2"
   ]
  },
  {
   "cell_type": "code",
   "execution_count": 4,
   "metadata": {},
   "outputs": [],
   "source": [
    "# import spotipy.oauth2 as oauth2\n",
    "\n",
    "# sp_oauth = oauth2.SpotifyOAuth(client_id=CLIENT_ID,client_secret=CLIENT_SECRET,redirect_uri=REDIRECT_URI,scope=SCOPE)\n",
    "# token_info = sp_oauth.get_cached_token() \n",
    "# if not token_info:\n",
    "#     auth_url = sp_oauth.get_authorize_url()\n",
    "#     print(auth_url)\n",
    "#     response = input('Paste the above link into your browser, then paste the redirect url here: ')\n",
    "\n",
    "#     code = sp_oauth.parse_response_code(response)\n",
    "#     token_info = sp_oauth.get_access_token(code)\n",
    "\n",
    "#     token = token_info['access_token']\n",
    "\n",
    "# sp = spotipy.Spotify(auth=token)"
   ]
  },
  {
   "cell_type": "code",
   "execution_count": 5,
   "metadata": {},
   "outputs": [],
   "source": [
    "# for k,v in sp.audio_features('54flyrjcdnQdco7300avMJ')[0].items():\n",
    "#     print(k,v)"
   ]
  },
  {
   "cell_type": "code",
   "execution_count": 6,
   "metadata": {},
   "outputs": [],
   "source": [
    "import spotipy\n",
    "from spotipy.oauth2 import SpotifyClientCredentials\n",
    "\n",
    "client_credentials_manager = SpotifyClientCredentials(client_id=CLIENT_ID,client_secret=CLIENT_SECRET)\n",
    "sp = spotipy.Spotify(client_credentials_manager=client_credentials_manager)"
   ]
  },
  {
   "cell_type": "code",
   "execution_count": 7,
   "metadata": {},
   "outputs": [
    {
     "name": "stdout",
     "output_type": "stream",
     "text": [
      "CPU times: user 3 µs, sys: 0 ns, total: 3 µs\n",
      "Wall time: 6.91 µs\n"
     ]
    },
    {
     "data": {
      "text/plain": [
       "{'danceability': 0.693,\n",
       " 'energy': 0.497,\n",
       " 'key': 2,\n",
       " 'loudness': -7.316,\n",
       " 'mode': 1,\n",
       " 'speechiness': 0.119,\n",
       " 'acousticness': 0.679,\n",
       " 'instrumentalness': 0,\n",
       " 'liveness': 0.258,\n",
       " 'valence': 0.473,\n",
       " 'tempo': 81.308,\n",
       " 'type': 'audio_features',\n",
       " 'id': '54flyrjcdnQdco7300avMJ',\n",
       " 'uri': 'spotify:track:54flyrjcdnQdco7300avMJ',\n",
       " 'track_href': 'https://api.spotify.com/v1/tracks/54flyrjcdnQdco7300avMJ',\n",
       " 'analysis_url': 'https://api.spotify.com/v1/audio-analysis/54flyrjcdnQdco7300avMJ',\n",
       " 'duration_ms': 122067,\n",
       " 'time_signature': 4}"
      ]
     },
     "execution_count": 7,
     "metadata": {},
     "output_type": "execute_result"
    }
   ],
   "source": [
    "%time\n",
    "\n",
    "def get_features(trackID):\n",
    "        return sp.audio_features(trackID)[0]\n",
    "    \n",
    "get_features('54flyrjcdnQdco7300avMJ')"
   ]
  },
  {
   "cell_type": "code",
   "execution_count": 8,
   "metadata": {},
   "outputs": [
    {
     "name": "stdout",
     "output_type": "stream",
     "text": [
      "CPU times: user 3 µs, sys: 0 ns, total: 3 µs\n",
      "Wall time: 5.96 µs\n"
     ]
    },
    {
     "data": {
      "text/plain": [
       "'54flyrjcdnQdco7300avMJ'"
      ]
     },
     "execution_count": 8,
     "metadata": {},
     "output_type": "execute_result"
    }
   ],
   "source": [
    "%time\n",
    "\n",
    "#Function to retrieve Spotify Track ID from Artist / Song via Spotipy\n",
    "\n",
    "def get_spotify_id(artist,track):\n",
    "    results = sp.search(q='artist:' + artist + ' ' + 'track:' + track, type='track')\n",
    "    return results[\"tracks\"][\"items\"][0][\"id\"]\n",
    "\n",
    "get_spotify_id(\"Queen\",\"We Will Rock You\")"
   ]
  },
  {
   "cell_type": "code",
   "execution_count": 9,
   "metadata": {},
   "outputs": [],
   "source": [
    "song_list = pd.read_pickle(\"./song_list6.pkl\")"
   ]
  },
  {
   "cell_type": "code",
   "execution_count": 10,
   "metadata": {},
   "outputs": [
    {
     "data": {
      "text/plain": [
       "(858312, 4)"
      ]
     },
     "execution_count": 10,
     "metadata": {},
     "output_type": "execute_result"
    }
   ],
   "source": [
    "song_list.shape"
   ]
  },
  {
   "cell_type": "code",
   "execution_count": 11,
   "metadata": {},
   "outputs": [],
   "source": [
    "song_list2 = song_list[[\"artist\",\"track\"]]"
   ]
  },
  {
   "cell_type": "code",
   "execution_count": 12,
   "metadata": {},
   "outputs": [],
   "source": [
    "import sqlite3\n",
    "\n",
    "def create_table(name):\n",
    "    conn = sqlite3.connect(f'./{name}.sqlite3')\n",
    "    curs = conn.cursor()\n",
    "    create_table = 'CREATE TABLE File (songid varchar(1000),artist varchar(1000),track varchar(1000), danceability float, energy float, key float, loudness float, mode float, speechiness float, acousticness float, instrumentalness float, liveness float, valence float, tempo float, duration_ms float,time_signature float);' \n",
    "    curs.execute(create_table)\n",
    "    return conn\n",
    "\n",
    "def insert(conn,f):    \n",
    "    curs = conn.cursor()    \n",
    "    query = (f'INSERT INTO File (songid, artist, track, danceability, energy, key, loudness, mode, speechiness, acousticness, instrumentalness, liveness, valence, tempo, duration_ms,time_signature) VALUES (\\\"{f[\"songid\"]}\\\",\\\"{f[\"artist\"]}\\\",\\\"{f[\"track\"]}\\\", {f[\"danceability\"]}, {f[\"energy\"]}, {f[\"key\"]}, {f[\"loudness\"]}, {f[\"mode\"]}, {f[\"speechiness\"]}, {f[\"acousticness\"]},  {f[\"instrumentalness\"]}, {f[\"liveness\"]}, {f[\"valence\"]}, {f[\"tempo\"]}, {f[\"duration_ms\"]},{f[\"time_signature\"]});')\n",
    "    curs.execute(query)\n",
    "    curs.close()\n",
    "    conn.commit()"
   ]
  },
  {
   "cell_type": "code",
   "execution_count": null,
   "metadata": {},
   "outputs": [
    {
     "name": "stdout",
     "output_type": "stream",
     "text": [
      "Myrick \"Freeze\" Guillory Insert Statement failed\n",
      "Steve \"Silk\" Hurley Insert Statement failed\n",
      "THERION Insert Statement failed\n",
      "Nicholas Hooper Insert Statement failed\n",
      "David \"Honeyboy\" Edwards Insert Statement failed\n",
      "Arthur \"Big Boy\" Crudup Insert Statement failed\n",
      "Bernard \"Pretty\" Purdie Insert Statement failed\n",
      "David \"Honeyboy\" Edwards Insert Statement failed\n",
      "Clarence \"Frogman\" Henry Insert Statement failed\n",
      "Artie \"Blues Boy\" White Insert Statement failed\n",
      "Hayley Westenra Insert Statement failed\n",
      "Cobra Skulls Insert Statement failed\n",
      "Skid Row Insert Statement failed\n",
      "Huey \"Piano\" Smith Insert Statement failed\n",
      "Michael Jackson Insert Statement failed\n",
      "Jimmy \"Bo\" Horne Insert Statement failed\n",
      "Pnuma Trio Insert Statement failed\n",
      "Arthur \"Big Boy\" Crudup Insert Statement failed\n",
      "David \"Honeyboy\" Edwards / Floyd Jones / Kansas City Red / Sunnyland Slim / Big Walter Horton Insert Statement failed\n",
      "Johnny Bush Insert Statement failed\n",
      "The Brand New Heavies Insert Statement failed\n",
      "The Presence Insert Statement failed\n",
      "David \"Fathead\" Newman Insert Statement failed\n",
      "Só Pra Contrariar Insert Statement failed\n",
      "Cannonball Adderley Quintet Insert Statement failed\n",
      "Clannad Insert Statement failed\n",
      "Evelyn \"Champagne\" King Insert Statement failed\n",
      "Henry Mancini Insert Statement failed\n",
      "Richard \"Groove\" Holmes Insert Statement failed\n",
      "retrying ...1secs\n",
      "Zbigniew Preisner Insert Statement failed\n",
      "Bertha \"Chippie\" Hill Insert Statement failed\n",
      "retrying ...1secs\n",
      "David \"Honeyboy\" Edwards Insert Statement failed\n",
      "Galactic Insert Statement failed\n",
      "Harry \"Choo Choo\" Romero Insert Statement failed\n",
      "Bobby \"Blue\" Bland Insert Statement failed\n",
      "James \"Son\" Thomas Insert Statement failed\n",
      "Stockholm Monsters Insert Statement failed\n",
      "Clarence \"Gatemouth\" Brown Insert Statement failed\n",
      "Richard \"Groove\" Holmes Insert Statement failed\n",
      "Butthole Surfers Insert Statement failed\n",
      "Weird Al Yankovic Insert Statement failed\n",
      "Bertha \"Chippie\" Hill Insert Statement failed\n",
      "Chet Atkins & Les Paul Insert Statement failed\n",
      "SOIL & \"PIMP\" SESSIONS Insert Statement failed\n",
      "Kenny \"Dope\" Gonzalez Insert Statement failed\n",
      "Jimmy \"Bo\" Horne Insert Statement failed\n",
      "Nicholas Hooper Insert Statement failed\n",
      "Meade \"Lux\" Lewis Insert Statement failed\n",
      "SOIL & \"PIMP\" SESSIONS Insert Statement failed\n",
      "Richard \"Groove\" Holmes Insert Statement failed\n",
      "Bertha \"Chippie\" Hill Insert Statement failed\n",
      "Bobby \"Blue\" Bland Insert Statement failed\n",
      "Jimmy \"Bo\" Horne Insert Statement failed\n",
      "Arthur \"Big Boy\" Crudup Insert Statement failed\n",
      "R. Carlos Nakai Insert Statement failed\n",
      "John McEuen Insert Statement failed\n",
      "Arthur \"Big Boy\" Crudup Insert Statement failed\n",
      "Clarence \"Frogman\" Henry Insert Statement failed\n",
      "Richard \"Groove\" Holmes Insert Statement failed\n",
      "Joe \"Guitar\" Hughes Insert Statement failed\n",
      "Duke Ellington And His Orchestra Insert Statement failed\n",
      "Seal Insert Statement failed\n",
      "James \"Son\" Thomas Insert Statement failed\n",
      "David \"Honeyboy\" Edwards Insert Statement failed\n",
      "Joe \"Fingers\" & His River City Mainliners Insert Statement failed\n",
      "Bernard \"Pretty\" Purdie Insert Statement failed\n",
      "Clarence \"Frogman\" Henry Insert Statement failed\n",
      "Amit Shoham Insert Statement failed\n",
      "Arthur \"Big Boy\" Crudup Insert Statement failed\n",
      "Carlos Bonell Insert Statement failed\n",
      "Bertha \"Chippie\" Hill Insert Statement failed\n",
      "David Darling Insert Statement failed\n",
      "Bobby \"Blue\" Bland Insert Statement failed\n",
      "Clarence \"Gatemouth\" Brown Insert Statement failed\n",
      "Bertha \"Chippie\" Hill Insert Statement failed\n",
      "Clarence \"Gatemouth\" Brown Insert Statement failed\n",
      "Paco Peña / Ely \"La Gambita\" / Antonia Gomez Insert Statement failed\n",
      "Nicholas Hooper Insert Statement failed\n",
      "Joe \"Guitar\" Hughes Insert Statement failed\n",
      "Clarence \"Gatemouth\" Brown Insert Statement failed\n",
      "Joe \"Guitar\" Hughes Insert Statement failed\n",
      "Butthole Surfers Insert Statement failed\n",
      "The Pop Rivets Insert Statement failed\n",
      "David \"Honeyboy\" Edwards Insert Statement failed\n",
      "Barry Manilow Insert Statement failed\n",
      "Nicholas Hooper Insert Statement failed\n",
      "Natalino Otto Insert Statement failed\n",
      "Queen Latifah Insert Statement failed\n",
      "Nicholas Hooper Insert Statement failed\n",
      "Dave \"Baby\" Cortez Insert Statement failed\n",
      "Peter Wackel Insert Statement failed\n",
      "Colossus Insert Statement failed\n",
      "Seal Insert Statement failed\n",
      "Accessory Insert Statement failed\n",
      "Ledisi / Oran \"Juice\" Jones Insert Statement failed\n",
      "Section 25 Insert Statement failed\n",
      "Nicholas Hooper Insert Statement failed\n",
      "David \"Honeyboy\" Edwards Insert Statement failed\n",
      "Nicholas Hooper Insert Statement failed\n",
      "Les Brown Insert Statement failed\n",
      "The Mamas & The Papas Insert Statement failed\n",
      "Michael Jackson Insert Statement failed\n",
      "Nas / Damian \"Jr. Gong\" Marley Insert Statement failed\n",
      "David \"Honeyboy\" Edwards Insert Statement failed\n",
      "David \"Honeyboy\" Edwards Insert Statement failed\n",
      "Damian \"Jr. Gong\" Marley Insert Statement failed\n",
      "David \"Honeyboy\" Edwards Insert Statement failed\n",
      "Lisahall Insert Statement failed\n",
      "Evelyn \"Champagne\" King Insert Statement failed\n",
      "Arthur \"Big Boy\" Crudup Insert Statement failed\n",
      "Myrick \"Freeze\" Guillory Insert Statement failed\n",
      "Billy \"The Kid\" Emerson Insert Statement failed\n",
      "Luther \"Guitar Junior\" Johnson Insert Statement failed\n",
      "Arthur \"Big Boy\" Crudup Insert Statement failed\n",
      "James Galway;Mike Mower Insert Statement failed\n",
      "Joe \"King\" Carrasco and the Crowns Insert Statement failed\n",
      "Richard \"Groove\" Holmes Insert Statement failed\n",
      "Albin Myers Insert Statement failed\n",
      "Arthur \"Big Boy\" Crudup Insert Statement failed\n",
      "Sergio Franchi Insert Statement failed\n",
      "LCD Soundsystem Insert Statement failed\n",
      "BOMB THE MUSIC INDUSTRY Insert Statement failed\n",
      "James \"Son\" Thomas Insert Statement failed\n",
      "Butthole Surfers Insert Statement failed\n",
      "Lee \"Scratch\" Perry Insert Statement failed\n",
      "Nicholas Hooper Insert Statement failed\n",
      "Eddie \"Cleanhead\" Vinson Insert Statement failed\n",
      "John Barry Orchestra Insert Statement failed\n",
      "Broken Social Scene Insert Statement failed\n",
      "R. Carlos Nakai Insert Statement failed\n",
      "Clarence \"Frogman\" Henry Insert Statement failed\n",
      "Luther \"Guitar Junior\" Johnson Insert Statement failed\n",
      "Swirlies Insert Statement failed\n",
      "Roberta Gambarini Insert Statement failed\n",
      "Novalima Insert Statement failed\n",
      "Kenny G Insert Statement failed\n",
      "Anne Ducros Insert Statement failed\n",
      "Digable Planets Insert Statement failed\n",
      "Arthur \"Big Boy\" Crudup Insert Statement failed\n",
      "Clarence \"Gatemouth\" Brown Insert Statement failed\n",
      "Arthur \"Big Boy\" Crudup Insert Statement failed\n",
      "Lena Horne Insert Statement failed\n",
      "The King Sisters Insert Statement failed\n",
      "James \"Son\" Thomas Insert Statement failed\n",
      "Edoardo Catemario Insert Statement failed\n",
      "Evelyn \"Champagne\" King Insert Statement failed\n",
      "The Mother Goose Singers Insert Statement failed\n",
      "James \"Son\" Thomas Insert Statement failed\n",
      "Huey \"Piano\" Smith Insert Statement failed\n",
      "Steve \"Silk\" Hurley Insert Statement failed\n",
      "Lee \"Scratch\" Perry Insert Statement failed\n",
      "Céline Dion Insert Statement failed\n",
      "Kenny \"Dope\" Gonzalez Insert Statement failed\n",
      "Nas / Damian \"Jr. Gong\" Marley / Stephen Marley Insert Statement failed\n",
      "David \"Honeyboy\" Edwards Insert Statement failed\n",
      "Birdman Insert Statement failed\n",
      "Richard \"Groove\" Holmes Insert Statement failed\n",
      "Richard \"Groove\" Holmes Insert Statement failed\n",
      "Johnny Burnette Insert Statement failed\n",
      "Dave Grusin Insert Statement failed\n",
      "David \"Honeyboy\" Edwards Insert Statement failed\n",
      "Evelyn \"Champagne\" King Insert Statement failed\n",
      "Richard \"Groove\" Holmes Insert Statement failed\n",
      "Chet Atkins & Les Paul Insert Statement failed\n",
      "Evelyn \"Champagne\" King Insert Statement failed\n",
      "Dave \"Baby\" Cortez Insert Statement failed\n",
      "Latterman Insert Statement failed\n",
      "Clarence \"Frogman\" Henry Insert Statement failed\n",
      "Nick Ingman Insert Statement failed\n",
      "Adriana Calcanhotto Insert Statement failed\n",
      "Bobby \"Blue\" Bland Insert Statement failed\n",
      "The Mother Goose Singers Insert Statement failed\n",
      "Johnny Horton Insert Statement failed\n",
      "Hollywood Studio Orchestra Insert Statement failed\n",
      "Eddie Jefferson Insert Statement failed\n",
      "David \"Honeyboy\" Edwards Insert Statement failed\n",
      "Hollywood Studio Orchestra Insert Statement failed\n",
      "Kenny \"Dope\" Gonzalez Insert Statement failed\n",
      "Farid Ortiz & Dagoberto \"El Negrito\" Osorio Insert Statement failed\n",
      "Lost On An Island Insert Statement failed\n",
      "Joe \"Guitar\" Hughes Insert Statement failed\n",
      "Kenny Wayne Shepherd Insert Statement failed\n",
      "Quadro Nuevo Insert Statement failed\n",
      "Bobby \"Blue\" Bland Insert Statement failed\n",
      "SOIL & \"PIMP\" SESSIONS Insert Statement failed\n"
     ]
    }
   ],
   "source": [
    "def retrieve_track_features(rownumbers,tablename):\n",
    "    feature_list = []\n",
    "    conn = create_table(tablename)\n",
    "    for entry,row in song_list2.head(rownumbers).iterrows():\n",
    "        f = {}\n",
    "        artist = row[\"artist\"]\n",
    "        track = row[\"track\"]\n",
    "        try:\n",
    "            spotifyid = get_spotify_id(artist,track)\n",
    "            features = get_features(spotifyid)\n",
    "            f = {\"songid\":spotifyid,\"artist\":artist,\"track\":track,'danceability':features['danceability'],\n",
    "                                 'energy':features['energy'],'key':features['key'],\n",
    "                                 'loudness':features['loudness'],'mode':features['mode'],\n",
    "                                'speechiness':features['speechiness'],'acousticness':features['acousticness'],\n",
    "                                 'instrumentalness':features['instrumentalness'],'liveness':features['liveness'],\n",
    "                                 'valence':features['valence'],'tempo':features['tempo'],'duration_ms':features['duration_ms'],'time_signature':features['time_signature']}\n",
    "            try:\n",
    "                insert(conn,f)\n",
    "            except:\n",
    "                print(artist,\"Insert Statement failed\")\n",
    "        except:\n",
    "            continue\n",
    "\n",
    "\n",
    "retrieve_track_features(858312,\"song_list6\")"
   ]
  },
  {
   "cell_type": "code",
   "execution_count": null,
   "metadata": {},
   "outputs": [],
   "source": []
  }
 ],
 "metadata": {
  "kernelspec": {
   "display_name": "sss",
   "language": "python",
   "name": "sss"
  },
  "language_info": {
   "codemirror_mode": {
    "name": "ipython",
    "version": 3
   },
   "file_extension": ".py",
   "mimetype": "text/x-python",
   "name": "python",
   "nbconvert_exporter": "python",
   "pygments_lexer": "ipython3",
   "version": "3.7.4"
  }
 },
 "nbformat": 4,
 "nbformat_minor": 4
}
