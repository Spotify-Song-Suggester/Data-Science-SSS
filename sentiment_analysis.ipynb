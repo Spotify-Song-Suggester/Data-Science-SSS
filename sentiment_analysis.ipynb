{
 "cells": [
  {
   "cell_type": "code",
   "execution_count": 1,
   "metadata": {},
   "outputs": [],
   "source": [
    "import pandas as pd\n",
    "import numpy as np\n",
    "import matplotlib.pyplot as plt\n",
    "from scipy import stats\n",
    "import scipy"
   ]
  },
  {
   "cell_type": "code",
   "execution_count": 2,
   "metadata": {
    "scrolled": true
   },
   "outputs": [
    {
     "name": "stdout",
     "output_type": "stream",
     "text": [
      "Requirement already satisfied: textblob in /Users/norashakirova/opt/anaconda3/lib/python3.7/site-packages (0.15.3)\n",
      "Requirement already satisfied: nltk>=3.1 in /Users/norashakirova/opt/anaconda3/lib/python3.7/site-packages (from textblob) (3.4.5)\n",
      "Requirement already satisfied: six in /Users/norashakirova/opt/anaconda3/lib/python3.7/site-packages (from nltk>=3.1->textblob) (1.12.0)\n",
      "Note: you may need to restart the kernel to use updated packages.\n"
     ]
    }
   ],
   "source": [
    "pip install textblob\n"
   ]
  },
  {
   "cell_type": "code",
   "execution_count": 3,
   "metadata": {},
   "outputs": [
    {
     "name": "stdout",
     "output_type": "stream",
     "text": [
      "(6411, 15)\n"
     ]
    },
    {
     "data": {
      "text/html": [
       "<div>\n",
       "<style scoped>\n",
       "    .dataframe tbody tr th:only-of-type {\n",
       "        vertical-align: middle;\n",
       "    }\n",
       "\n",
       "    .dataframe tbody tr th {\n",
       "        vertical-align: top;\n",
       "    }\n",
       "\n",
       "    .dataframe thead th {\n",
       "        text-align: right;\n",
       "    }\n",
       "</style>\n",
       "<table border=\"1\" class=\"dataframe\">\n",
       "  <thead>\n",
       "    <tr style=\"text-align: right;\">\n",
       "      <th></th>\n",
       "      <th>artist</th>\n",
       "      <th>track</th>\n",
       "      <th>danceability</th>\n",
       "      <th>energy</th>\n",
       "      <th>key</th>\n",
       "      <th>loudness</th>\n",
       "      <th>mode</th>\n",
       "      <th>speechiness</th>\n",
       "      <th>acousticness</th>\n",
       "      <th>instrumentalness</th>\n",
       "      <th>liveness</th>\n",
       "      <th>valence</th>\n",
       "      <th>tempo</th>\n",
       "      <th>duration_ms</th>\n",
       "      <th>time_signature</th>\n",
       "    </tr>\n",
       "  </thead>\n",
       "  <tbody>\n",
       "    <tr>\n",
       "      <td>0</td>\n",
       "      <td>Karkkiautomaatti</td>\n",
       "      <td>Tanssi vaan</td>\n",
       "      <td>0.487</td>\n",
       "      <td>0.678</td>\n",
       "      <td>9.0</td>\n",
       "      <td>-7.780</td>\n",
       "      <td>1.0</td>\n",
       "      <td>0.0495</td>\n",
       "      <td>0.001300</td>\n",
       "      <td>0.0551</td>\n",
       "      <td>0.0846</td>\n",
       "      <td>0.870</td>\n",
       "      <td>149.940</td>\n",
       "      <td>157307.0</td>\n",
       "      <td>4.0</td>\n",
       "    </tr>\n",
       "    <tr>\n",
       "      <td>1</td>\n",
       "      <td>Hudson Mohawke</td>\n",
       "      <td>No One Could Ever</td>\n",
       "      <td>0.662</td>\n",
       "      <td>0.823</td>\n",
       "      <td>4.0</td>\n",
       "      <td>-1.711</td>\n",
       "      <td>0.0</td>\n",
       "      <td>0.0662</td>\n",
       "      <td>0.000045</td>\n",
       "      <td>0.9520</td>\n",
       "      <td>0.3430</td>\n",
       "      <td>0.621</td>\n",
       "      <td>177.745</td>\n",
       "      <td>138960.0</td>\n",
       "      <td>4.0</td>\n",
       "    </tr>\n",
       "    <tr>\n",
       "      <td>2</td>\n",
       "      <td>Der Mystic</td>\n",
       "      <td>Tangle Of Aspens</td>\n",
       "      <td>0.430</td>\n",
       "      <td>0.960</td>\n",
       "      <td>5.0</td>\n",
       "      <td>-7.741</td>\n",
       "      <td>0.0</td>\n",
       "      <td>0.0431</td>\n",
       "      <td>0.000725</td>\n",
       "      <td>0.9250</td>\n",
       "      <td>0.1230</td>\n",
       "      <td>0.225</td>\n",
       "      <td>140.001</td>\n",
       "      <td>514290.0</td>\n",
       "      <td>4.0</td>\n",
       "    </tr>\n",
       "    <tr>\n",
       "      <td>3</td>\n",
       "      <td>Sasha / Turbulence</td>\n",
       "      <td>We Have Got Love</td>\n",
       "      <td>0.663</td>\n",
       "      <td>0.677</td>\n",
       "      <td>3.0</td>\n",
       "      <td>-4.117</td>\n",
       "      <td>0.0</td>\n",
       "      <td>0.0755</td>\n",
       "      <td>0.245000</td>\n",
       "      <td>0.0000</td>\n",
       "      <td>0.3500</td>\n",
       "      <td>0.879</td>\n",
       "      <td>152.085</td>\n",
       "      <td>212413.0</td>\n",
       "      <td>4.0</td>\n",
       "    </tr>\n",
       "    <tr>\n",
       "      <td>4</td>\n",
       "      <td>Kris Kross</td>\n",
       "      <td>2 Da Beat Ch'yall</td>\n",
       "      <td>0.859</td>\n",
       "      <td>0.741</td>\n",
       "      <td>11.0</td>\n",
       "      <td>-12.329</td>\n",
       "      <td>0.0</td>\n",
       "      <td>0.2710</td>\n",
       "      <td>0.002760</td>\n",
       "      <td>0.0000</td>\n",
       "      <td>0.3250</td>\n",
       "      <td>0.529</td>\n",
       "      <td>98.082</td>\n",
       "      <td>221200.0</td>\n",
       "      <td>4.0</td>\n",
       "    </tr>\n",
       "  </tbody>\n",
       "</table>\n",
       "</div>"
      ],
      "text/plain": [
       "               artist              track  danceability  energy   key  \\\n",
       "0    Karkkiautomaatti        Tanssi vaan         0.487   0.678   9.0   \n",
       "1      Hudson Mohawke  No One Could Ever         0.662   0.823   4.0   \n",
       "2          Der Mystic   Tangle Of Aspens         0.430   0.960   5.0   \n",
       "3  Sasha / Turbulence   We Have Got Love         0.663   0.677   3.0   \n",
       "4          Kris Kross  2 Da Beat Ch'yall         0.859   0.741  11.0   \n",
       "\n",
       "   loudness  mode  speechiness  acousticness  instrumentalness  liveness  \\\n",
       "0    -7.780   1.0       0.0495      0.001300            0.0551    0.0846   \n",
       "1    -1.711   0.0       0.0662      0.000045            0.9520    0.3430   \n",
       "2    -7.741   0.0       0.0431      0.000725            0.9250    0.1230   \n",
       "3    -4.117   0.0       0.0755      0.245000            0.0000    0.3500   \n",
       "4   -12.329   0.0       0.2710      0.002760            0.0000    0.3250   \n",
       "\n",
       "   valence    tempo  duration_ms  time_signature  \n",
       "0    0.870  149.940     157307.0             4.0  \n",
       "1    0.621  177.745     138960.0             4.0  \n",
       "2    0.225  140.001     514290.0             4.0  \n",
       "3    0.879  152.085     212413.0             4.0  \n",
       "4    0.529   98.082     221200.0             4.0  "
      ]
     },
     "execution_count": 3,
     "metadata": {},
     "output_type": "execute_result"
    }
   ],
   "source": [
    "df = pd.read_csv('https://raw.githubusercontent.com/Spotify-Song-Suggester/Data-Science-SSS/zhenya/data%20acquisition/data/sample.csv')\n",
    "\n",
    "print(df.shape)\n",
    "\n",
    "df.head()"
   ]
  },
  {
   "cell_type": "code",
   "execution_count": 4,
   "metadata": {},
   "outputs": [
    {
     "data": {
      "text/html": [
       "<div>\n",
       "<style scoped>\n",
       "    .dataframe tbody tr th:only-of-type {\n",
       "        vertical-align: middle;\n",
       "    }\n",
       "\n",
       "    .dataframe tbody tr th {\n",
       "        vertical-align: top;\n",
       "    }\n",
       "\n",
       "    .dataframe thead th {\n",
       "        text-align: right;\n",
       "    }\n",
       "</style>\n",
       "<table border=\"1\" class=\"dataframe\">\n",
       "  <thead>\n",
       "    <tr style=\"text-align: right;\">\n",
       "      <th></th>\n",
       "      <th>danceability</th>\n",
       "      <th>energy</th>\n",
       "      <th>key</th>\n",
       "      <th>loudness</th>\n",
       "      <th>mode</th>\n",
       "      <th>speechiness</th>\n",
       "      <th>acousticness</th>\n",
       "      <th>instrumentalness</th>\n",
       "      <th>liveness</th>\n",
       "      <th>valence</th>\n",
       "      <th>tempo</th>\n",
       "      <th>duration_ms</th>\n",
       "      <th>time_signature</th>\n",
       "    </tr>\n",
       "  </thead>\n",
       "  <tbody>\n",
       "    <tr>\n",
       "      <td>count</td>\n",
       "      <td>6411.000000</td>\n",
       "      <td>6411.000000</td>\n",
       "      <td>6411.000000</td>\n",
       "      <td>6411.000000</td>\n",
       "      <td>6411.000000</td>\n",
       "      <td>6411.000000</td>\n",
       "      <td>6411.000000</td>\n",
       "      <td>6411.000000</td>\n",
       "      <td>6411.000000</td>\n",
       "      <td>6411.00000</td>\n",
       "      <td>6411.000000</td>\n",
       "      <td>6.411000e+03</td>\n",
       "      <td>6411.000000</td>\n",
       "    </tr>\n",
       "    <tr>\n",
       "      <td>mean</td>\n",
       "      <td>0.541763</td>\n",
       "      <td>0.633402</td>\n",
       "      <td>5.318359</td>\n",
       "      <td>-9.370563</td>\n",
       "      <td>0.662923</td>\n",
       "      <td>0.084727</td>\n",
       "      <td>0.289201</td>\n",
       "      <td>0.228111</td>\n",
       "      <td>0.213685</td>\n",
       "      <td>0.50441</td>\n",
       "      <td>121.839421</td>\n",
       "      <td>2.496036e+05</td>\n",
       "      <td>3.894088</td>\n",
       "    </tr>\n",
       "    <tr>\n",
       "      <td>std</td>\n",
       "      <td>0.180990</td>\n",
       "      <td>0.255969</td>\n",
       "      <td>3.573416</td>\n",
       "      <td>4.719068</td>\n",
       "      <td>0.472748</td>\n",
       "      <td>0.104831</td>\n",
       "      <td>0.331591</td>\n",
       "      <td>0.348067</td>\n",
       "      <td>0.186707</td>\n",
       "      <td>0.26343</td>\n",
       "      <td>29.624803</td>\n",
       "      <td>1.170440e+05</td>\n",
       "      <td>0.443551</td>\n",
       "    </tr>\n",
       "    <tr>\n",
       "      <td>min</td>\n",
       "      <td>0.000000</td>\n",
       "      <td>0.000000</td>\n",
       "      <td>0.000000</td>\n",
       "      <td>-50.071000</td>\n",
       "      <td>0.000000</td>\n",
       "      <td>0.000000</td>\n",
       "      <td>0.000000</td>\n",
       "      <td>0.000000</td>\n",
       "      <td>0.000000</td>\n",
       "      <td>0.00000</td>\n",
       "      <td>0.000000</td>\n",
       "      <td>8.040000e+03</td>\n",
       "      <td>0.000000</td>\n",
       "    </tr>\n",
       "    <tr>\n",
       "      <td>25%</td>\n",
       "      <td>0.418000</td>\n",
       "      <td>0.445000</td>\n",
       "      <td>2.000000</td>\n",
       "      <td>-11.688000</td>\n",
       "      <td>0.000000</td>\n",
       "      <td>0.035000</td>\n",
       "      <td>0.006645</td>\n",
       "      <td>0.000004</td>\n",
       "      <td>0.096300</td>\n",
       "      <td>0.29000</td>\n",
       "      <td>99.232000</td>\n",
       "      <td>1.830245e+05</td>\n",
       "      <td>4.000000</td>\n",
       "    </tr>\n",
       "    <tr>\n",
       "      <td>50%</td>\n",
       "      <td>0.555000</td>\n",
       "      <td>0.673000</td>\n",
       "      <td>5.000000</td>\n",
       "      <td>-8.467000</td>\n",
       "      <td>1.000000</td>\n",
       "      <td>0.047500</td>\n",
       "      <td>0.124000</td>\n",
       "      <td>0.002000</td>\n",
       "      <td>0.135000</td>\n",
       "      <td>0.50700</td>\n",
       "      <td>121.071000</td>\n",
       "      <td>2.293600e+05</td>\n",
       "      <td>4.000000</td>\n",
       "    </tr>\n",
       "    <tr>\n",
       "      <td>75%</td>\n",
       "      <td>0.678000</td>\n",
       "      <td>0.854500</td>\n",
       "      <td>9.000000</td>\n",
       "      <td>-6.025500</td>\n",
       "      <td>1.000000</td>\n",
       "      <td>0.082950</td>\n",
       "      <td>0.556000</td>\n",
       "      <td>0.458500</td>\n",
       "      <td>0.279500</td>\n",
       "      <td>0.72300</td>\n",
       "      <td>139.628000</td>\n",
       "      <td>2.884670e+05</td>\n",
       "      <td>4.000000</td>\n",
       "    </tr>\n",
       "    <tr>\n",
       "      <td>max</td>\n",
       "      <td>0.983000</td>\n",
       "      <td>0.999000</td>\n",
       "      <td>11.000000</td>\n",
       "      <td>4.364000</td>\n",
       "      <td>1.000000</td>\n",
       "      <td>0.954000</td>\n",
       "      <td>0.996000</td>\n",
       "      <td>0.992000</td>\n",
       "      <td>0.995000</td>\n",
       "      <td>0.98600</td>\n",
       "      <td>217.850000</td>\n",
       "      <td>1.786080e+06</td>\n",
       "      <td>5.000000</td>\n",
       "    </tr>\n",
       "  </tbody>\n",
       "</table>\n",
       "</div>"
      ],
      "text/plain": [
       "       danceability       energy          key     loudness         mode  \\\n",
       "count   6411.000000  6411.000000  6411.000000  6411.000000  6411.000000   \n",
       "mean       0.541763     0.633402     5.318359    -9.370563     0.662923   \n",
       "std        0.180990     0.255969     3.573416     4.719068     0.472748   \n",
       "min        0.000000     0.000000     0.000000   -50.071000     0.000000   \n",
       "25%        0.418000     0.445000     2.000000   -11.688000     0.000000   \n",
       "50%        0.555000     0.673000     5.000000    -8.467000     1.000000   \n",
       "75%        0.678000     0.854500     9.000000    -6.025500     1.000000   \n",
       "max        0.983000     0.999000    11.000000     4.364000     1.000000   \n",
       "\n",
       "       speechiness  acousticness  instrumentalness     liveness     valence  \\\n",
       "count  6411.000000   6411.000000       6411.000000  6411.000000  6411.00000   \n",
       "mean      0.084727      0.289201          0.228111     0.213685     0.50441   \n",
       "std       0.104831      0.331591          0.348067     0.186707     0.26343   \n",
       "min       0.000000      0.000000          0.000000     0.000000     0.00000   \n",
       "25%       0.035000      0.006645          0.000004     0.096300     0.29000   \n",
       "50%       0.047500      0.124000          0.002000     0.135000     0.50700   \n",
       "75%       0.082950      0.556000          0.458500     0.279500     0.72300   \n",
       "max       0.954000      0.996000          0.992000     0.995000     0.98600   \n",
       "\n",
       "             tempo   duration_ms  time_signature  \n",
       "count  6411.000000  6.411000e+03     6411.000000  \n",
       "mean    121.839421  2.496036e+05        3.894088  \n",
       "std      29.624803  1.170440e+05        0.443551  \n",
       "min       0.000000  8.040000e+03        0.000000  \n",
       "25%      99.232000  1.830245e+05        4.000000  \n",
       "50%     121.071000  2.293600e+05        4.000000  \n",
       "75%     139.628000  2.884670e+05        4.000000  \n",
       "max     217.850000  1.786080e+06        5.000000  "
      ]
     },
     "execution_count": 4,
     "metadata": {},
     "output_type": "execute_result"
    }
   ],
   "source": [
    "# Eliminating columns\n",
    "\n",
    "df2 = df.drop(['artist', 'track'], axis=1)\n",
    "\n",
    "df2.describe()"
   ]
  },
  {
   "cell_type": "code",
   "execution_count": 5,
   "metadata": {},
   "outputs": [
    {
     "data": {
      "text/plain": [
       "Index(['danceability', 'energy', 'key', 'loudness', 'mode', 'speechiness',\n",
       "       'acousticness', 'instrumentalness', 'liveness', 'valence', 'tempo',\n",
       "       'duration_ms', 'time_signature'],\n",
       "      dtype='object')"
      ]
     },
     "execution_count": 5,
     "metadata": {},
     "output_type": "execute_result"
    }
   ],
   "source": [
    "df2.columns"
   ]
  },
  {
   "cell_type": "code",
   "execution_count": 6,
   "metadata": {},
   "outputs": [
    {
     "data": {
      "text/plain": [
       "7.0     802\n",
       "2.0     790\n",
       "0.0     743\n",
       "9.0     706\n",
       "4.0     568\n",
       "1.0     516\n",
       "11.0    509\n",
       "5.0     484\n",
       "10.0    448\n",
       "6.0     357\n",
       "8.0     331\n",
       "3.0     157\n",
       "Name: key, dtype: int64"
      ]
     },
     "execution_count": 6,
     "metadata": {},
     "output_type": "execute_result"
    }
   ],
   "source": [
    "df2['key'].value_counts()"
   ]
  },
  {
   "cell_type": "code",
   "execution_count": 7,
   "metadata": {},
   "outputs": [
    {
     "data": {
      "text/plain": [
       "4.0    0.887849\n",
       "3.0    0.087038\n",
       "5.0    0.014506\n",
       "1.0    0.009047\n",
       "0.0    0.001560\n",
       "Name: time_signature, dtype: float64"
      ]
     },
     "execution_count": 7,
     "metadata": {},
     "output_type": "execute_result"
    }
   ],
   "source": [
    "df2['time_signature'].value_counts(normalize=True)"
   ]
  },
  {
   "cell_type": "markdown",
   "metadata": {},
   "source": [
    "**Danceability:** float 0-1 (calculation)\n",
    "\n",
    "**Energy:** float 0-1 (calculation)\n",
    "\n",
    "**Key:** integer 0-11 (standard pitch class notation)\n",
    "\n",
    "**Loudness:** float ~negative 50 to ~4.3 (average in decibels)\n",
    "\n",
    "**Mode:** boolean (1 = major; 0 = minor)\n",
    "\n",
    "**Speechiness:** float 0-1 (0-.33 = music/non-speech; .33-.66 = both music and speech; .66-1 = entirely spoken words)\n",
    "\n",
    "**Acousticness:** float 0-1 (probability estimate)\n",
    "\n",
    "**Instrumentalness:** float 0-1 (probability estimate; 1 = no vocal content)\n",
    "\n",
    "**Liveness:** float 0-1 (probability estimate; 0.8+ means strong likelihood of a live audience)\n",
    "\n",
    "**Valence:** float 0-1 (calculation; higher numbers sound more positive)\n",
    "\n",
    "**Tempo:** float 0 to ~218 (beats per minute/BPM)\n",
    "\n",
    "**Duration:** float ~8000 to ~1.7 million (I assume this is in milliseconds; probably convert to minutes)\n",
    "\n",
    "**Time Signature:** 0, 1, 3, 4, 5 (number of beats in each bar/measure)"
   ]
  },
  {
   "cell_type": "code",
   "execution_count": 8,
   "metadata": {},
   "outputs": [],
   "source": [
    "intervals = df2.drop(['key', 'loudness', 'mode', 'tempo', 'duration_ms', 'time_signature'], axis=1)\n",
    "\n",
    "floats_other = df2[['loudness', 'tempo']]\n",
    "\n",
    "categoricals = df2[['key', 'mode', 'time_signature', 'duration_ms']]\n",
    "\n",
    "# key and mode are true categoricals; time signature is a number"
   ]
  },
  {
   "cell_type": "code",
   "execution_count": 9,
   "metadata": {},
   "outputs": [
    {
     "data": {
      "text/html": [
       "<div>\n",
       "<style scoped>\n",
       "    .dataframe tbody tr th:only-of-type {\n",
       "        vertical-align: middle;\n",
       "    }\n",
       "\n",
       "    .dataframe tbody tr th {\n",
       "        vertical-align: top;\n",
       "    }\n",
       "\n",
       "    .dataframe thead th {\n",
       "        text-align: right;\n",
       "    }\n",
       "</style>\n",
       "<table border=\"1\" class=\"dataframe\">\n",
       "  <thead>\n",
       "    <tr style=\"text-align: right;\">\n",
       "      <th></th>\n",
       "      <th>danceability</th>\n",
       "      <th>energy</th>\n",
       "      <th>speechiness</th>\n",
       "      <th>acousticness</th>\n",
       "      <th>instrumentalness</th>\n",
       "      <th>liveness</th>\n",
       "      <th>valence</th>\n",
       "    </tr>\n",
       "  </thead>\n",
       "  <tbody>\n",
       "    <tr>\n",
       "      <td>0</td>\n",
       "      <td>0.487</td>\n",
       "      <td>0.678</td>\n",
       "      <td>0.0495</td>\n",
       "      <td>0.001300</td>\n",
       "      <td>0.0551</td>\n",
       "      <td>0.0846</td>\n",
       "      <td>0.870</td>\n",
       "    </tr>\n",
       "    <tr>\n",
       "      <td>1</td>\n",
       "      <td>0.662</td>\n",
       "      <td>0.823</td>\n",
       "      <td>0.0662</td>\n",
       "      <td>0.000045</td>\n",
       "      <td>0.9520</td>\n",
       "      <td>0.3430</td>\n",
       "      <td>0.621</td>\n",
       "    </tr>\n",
       "    <tr>\n",
       "      <td>2</td>\n",
       "      <td>0.430</td>\n",
       "      <td>0.960</td>\n",
       "      <td>0.0431</td>\n",
       "      <td>0.000725</td>\n",
       "      <td>0.9250</td>\n",
       "      <td>0.1230</td>\n",
       "      <td>0.225</td>\n",
       "    </tr>\n",
       "    <tr>\n",
       "      <td>3</td>\n",
       "      <td>0.663</td>\n",
       "      <td>0.677</td>\n",
       "      <td>0.0755</td>\n",
       "      <td>0.245000</td>\n",
       "      <td>0.0000</td>\n",
       "      <td>0.3500</td>\n",
       "      <td>0.879</td>\n",
       "    </tr>\n",
       "    <tr>\n",
       "      <td>4</td>\n",
       "      <td>0.859</td>\n",
       "      <td>0.741</td>\n",
       "      <td>0.2710</td>\n",
       "      <td>0.002760</td>\n",
       "      <td>0.0000</td>\n",
       "      <td>0.3250</td>\n",
       "      <td>0.529</td>\n",
       "    </tr>\n",
       "  </tbody>\n",
       "</table>\n",
       "</div>"
      ],
      "text/plain": [
       "   danceability  energy  speechiness  acousticness  instrumentalness  \\\n",
       "0         0.487   0.678       0.0495      0.001300            0.0551   \n",
       "1         0.662   0.823       0.0662      0.000045            0.9520   \n",
       "2         0.430   0.960       0.0431      0.000725            0.9250   \n",
       "3         0.663   0.677       0.0755      0.245000            0.0000   \n",
       "4         0.859   0.741       0.2710      0.002760            0.0000   \n",
       "\n",
       "   liveness  valence  \n",
       "0    0.0846    0.870  \n",
       "1    0.3430    0.621  \n",
       "2    0.1230    0.225  \n",
       "3    0.3500    0.879  \n",
       "4    0.3250    0.529  "
      ]
     },
     "execution_count": 9,
     "metadata": {},
     "output_type": "execute_result"
    }
   ],
   "source": [
    "intervals.head()"
   ]
  },
  {
   "cell_type": "code",
   "execution_count": 10,
   "metadata": {},
   "outputs": [
    {
     "data": {
      "text/html": [
       "<div>\n",
       "<style scoped>\n",
       "    .dataframe tbody tr th:only-of-type {\n",
       "        vertical-align: middle;\n",
       "    }\n",
       "\n",
       "    .dataframe tbody tr th {\n",
       "        vertical-align: top;\n",
       "    }\n",
       "\n",
       "    .dataframe thead th {\n",
       "        text-align: right;\n",
       "    }\n",
       "</style>\n",
       "<table border=\"1\" class=\"dataframe\">\n",
       "  <thead>\n",
       "    <tr style=\"text-align: right;\">\n",
       "      <th></th>\n",
       "      <th>loudness</th>\n",
       "      <th>tempo</th>\n",
       "    </tr>\n",
       "  </thead>\n",
       "  <tbody>\n",
       "    <tr>\n",
       "      <td>0</td>\n",
       "      <td>-7.780</td>\n",
       "      <td>149.940</td>\n",
       "    </tr>\n",
       "    <tr>\n",
       "      <td>1</td>\n",
       "      <td>-1.711</td>\n",
       "      <td>177.745</td>\n",
       "    </tr>\n",
       "    <tr>\n",
       "      <td>2</td>\n",
       "      <td>-7.741</td>\n",
       "      <td>140.001</td>\n",
       "    </tr>\n",
       "    <tr>\n",
       "      <td>3</td>\n",
       "      <td>-4.117</td>\n",
       "      <td>152.085</td>\n",
       "    </tr>\n",
       "    <tr>\n",
       "      <td>4</td>\n",
       "      <td>-12.329</td>\n",
       "      <td>98.082</td>\n",
       "    </tr>\n",
       "  </tbody>\n",
       "</table>\n",
       "</div>"
      ],
      "text/plain": [
       "   loudness    tempo\n",
       "0    -7.780  149.940\n",
       "1    -1.711  177.745\n",
       "2    -7.741  140.001\n",
       "3    -4.117  152.085\n",
       "4   -12.329   98.082"
      ]
     },
     "execution_count": 10,
     "metadata": {},
     "output_type": "execute_result"
    }
   ],
   "source": [
    "floats_other.head()"
   ]
  },
  {
   "cell_type": "code",
   "execution_count": 11,
   "metadata": {},
   "outputs": [
    {
     "data": {
      "text/plain": [
       "[0.48700000000000004,\n",
       " 0.6779999999999999,\n",
       " 0.0495,\n",
       " 0.0013,\n",
       " 0.0551,\n",
       " 0.0846,\n",
       " 0.87,\n",
       " 0.5663703010450788,\n",
       " 0.8376228357510529]"
      ]
     },
     "execution_count": 11,
     "metadata": {},
     "output_type": "execute_result"
    }
   ],
   "source": [
    "from scipy.stats import percentileofscore\n",
    "\n",
    "example_data = intervals.loc[0].tolist()\n",
    "\n",
    "for column in floats_other.columns:\n",
    "    perc = percentileofscore(df[column], floats_other.loc[0, column]) / 100\n",
    "    example_data.append(perc)\n",
    "    \n",
    "example_data"
   ]
  },
  {
   "cell_type": "code",
   "execution_count": 12,
   "metadata": {},
   "outputs": [],
   "source": [
    "example_data.reverse()"
   ]
  },
  {
   "cell_type": "code",
   "execution_count": 13,
   "metadata": {},
   "outputs": [],
   "source": [
    "key_notation = {0: 'C', 1: 'C-sharp', 2: 'D', 3: 'D-sharp',\n",
    "                4: 'E', 5: 'F', 6: 'F-sharp', 7: 'G', 8: 'G-sharp',\n",
    "                9: 'A', 10: 'B-flat', 11: 'B'}\n",
    "\n",
    "mode_notation = {0: 'Minor', 1: 'Major'}"
   ]
  },
  {
   "cell_type": "code",
   "execution_count": 14,
   "metadata": {},
   "outputs": [
    {
     "data": {
      "image/png": "[encoded data removed]",
      "text/plain": [
       "<Figure size 720x360 with 1 Axes>"
      ]
     },
     "metadata": {
      "needs_background": "light"
     },
     "output_type": "display_data"
    }
   ],
   "source": [
    "fig, ax = plt.subplots()\n",
    "fig.set_size_inches(10,5)\n",
    "ax.bar(x=np.arange(9), height=example_data)\n",
    "ax.set_ylim(0,1)\n",
    "ax.set_xticks(np.arange(9))\n",
    "ax.set_xticklabels(['tempo', 'loudness'] + intervals.columns.tolist(), rotation=45)\n",
    "ax.set_yticks([0, 0.5, 1])\n",
    "ax.set_yticklabels(['Low', 'Medium', 'High'])\n",
    "ax.text(x=-0.5, y=example_data[0]+0.05, s=f'{df.tempo[0]} BPM', fontsize=12)\n",
    "ax.text(x=0.6, y=example_data[1]+0.05, s=f'{np.round(df.loudness[0], 1)} dB', fontsize=12)\n",
    "ax.text(x=3, y=0.9, s=f'Pitch: {key_notation[categoricals.iloc[0,0]]} {mode_notation[categoricals.iloc[0,1]]}',\n",
    "        fontsize=12)\n",
    "ax.text(x=3, y=0.8, s=f'Time signature: {int(categoricals.iloc[0,2])} / 4', fontsize=12)\n",
    "ax.text(x=3, y=0.7, s=f'Duration: {np.round(categoricals.iloc[0,3] / 3600, 2)} minutes', fontsize=12)\n",
    "plt.show()"
   ]
  },
  {
   "cell_type": "code",
   "execution_count": 15,
   "metadata": {},
   "outputs": [
    {
     "data": {
      "text/plain": [
       "['danceability',\n",
       " 'energy',\n",
       " 'speechiness',\n",
       " 'acousticness',\n",
       " 'instrumentalness',\n",
       " 'liveness',\n",
       " 'valence',\n",
       " 'loudness',\n",
       " 'tempo']"
      ]
     },
     "execution_count": 15,
     "metadata": {},
     "output_type": "execute_result"
    }
   ],
   "source": [
    "intervals.columns.tolist() + ['loudness', 'tempo']"
   ]
  },
  {
   "cell_type": "code",
   "execution_count": 16,
   "metadata": {},
   "outputs": [
    {
     "data": {
      "text/plain": [
       "0    -7.780\n",
       "1    -1.711\n",
       "2    -7.741\n",
       "3    -4.117\n",
       "4   -12.329\n",
       "Name: loudness, dtype: float64"
      ]
     },
     "execution_count": 16,
     "metadata": {},
     "output_type": "execute_result"
    }
   ],
   "source": [
    "loudness = floats_other['loudness']\n",
    "loudness.head()"
   ]
  },
  {
   "cell_type": "code",
   "execution_count": 17,
   "metadata": {},
   "outputs": [
    {
     "data": {
      "text/plain": [
       "count    6411.000000\n",
       "mean       -9.370563\n",
       "std         4.719068\n",
       "min       -50.071000\n",
       "25%       -11.688000\n",
       "50%        -8.467000\n",
       "75%        -6.025500\n",
       "max         4.364000\n",
       "Name: loudness, dtype: float64"
      ]
     },
     "execution_count": 17,
     "metadata": {},
     "output_type": "execute_result"
    }
   ],
   "source": [
    "loudness.describe()"
   ]
  },
  {
   "cell_type": "code",
   "execution_count": 18,
   "metadata": {},
   "outputs": [
    {
     "ename": "AttributeError",
     "evalue": "module 'scipy.stats' has no attribute 'perc'",
     "output_type": "error",
     "traceback": [
      "\u001b[0;31m---------------------------------------------------------------------------\u001b[0m",
      "\u001b[0;31mAttributeError\u001b[0m                            Traceback (most recent call last)",
      "\u001b[0;32m<ipython-input-18-0597290301e2>\u001b[0m in \u001b[0;36m<module>\u001b[0;34m\u001b[0m\n\u001b[1;32m      1\u001b[0m \u001b[0mfloats_other2\u001b[0m \u001b[0;34m=\u001b[0m \u001b[0mfloats_other\u001b[0m\u001b[0;34m.\u001b[0m\u001b[0mcopy\u001b[0m\u001b[0;34m(\u001b[0m\u001b[0;34m)\u001b[0m\u001b[0;34m\u001b[0m\u001b[0;34m\u001b[0m\u001b[0m\n\u001b[1;32m      2\u001b[0m \u001b[0;32mfor\u001b[0m \u001b[0mcolumn\u001b[0m \u001b[0;32min\u001b[0m \u001b[0mfloats_other2\u001b[0m\u001b[0;34m:\u001b[0m\u001b[0;34m\u001b[0m\u001b[0;34m\u001b[0m\u001b[0m\n\u001b[0;32m----> 3\u001b[0;31m     \u001b[0mfloats_other2\u001b[0m\u001b[0;34m[\u001b[0m\u001b[0mcolumn\u001b[0m\u001b[0;34m]\u001b[0m \u001b[0;34m=\u001b[0m \u001b[0mscipy\u001b[0m\u001b[0;34m.\u001b[0m\u001b[0mstats\u001b[0m\u001b[0;34m.\u001b[0m\u001b[0mperc\u001b[0m\u001b[0;34m\u001b[0m\u001b[0;34m\u001b[0m\u001b[0m\n\u001b[0m",
      "\u001b[0;31mAttributeError\u001b[0m: module 'scipy.stats' has no attribute 'perc'"
     ]
    }
   ],
   "source": [
    "floats_other2 = floats_other.copy()\n",
    "for column in floats_other2:\n",
    "    floats_other2[column] = scipy.stats.perc"
   ]
  },
  {
   "cell_type": "code",
   "execution_count": 19,
   "metadata": {},
   "outputs": [
    {
     "data": {
      "text/plain": [
       "2621.7833333333333"
      ]
     },
     "execution_count": 19,
     "metadata": {},
     "output_type": "execute_result"
    }
   ],
   "source": [
    "157307 / 60"
   ]
  },
  {
   "cell_type": "code",
   "execution_count": 20,
   "metadata": {},
   "outputs": [
    {
     "data": {
      "text/plain": [
       "43.68333333333333"
      ]
     },
     "execution_count": 20,
     "metadata": {},
     "output_type": "execute_result"
    }
   ],
   "source": [
    "2621 / 60"
   ]
  },
  {
   "cell_type": "code",
   "execution_count": 54,
   "metadata": {},
   "outputs": [
    {
     "name": "stdout",
     "output_type": "stream",
     "text": [
      "Sentiment(polarity=0.5, subjectivity=0.6)\n",
      "Sentiment(polarity=0.0, subjectivity=0.0)\n"
     ]
    }
   ],
   "source": [
    "from textblob import TextBlob\n",
    "test = TextBlob('Tangle Of Aspens')\n",
    "\n"
   ]
  },
  {
   "cell_type": "code",
   "execution_count": 22,
   "metadata": {},
   "outputs": [],
   "source": [
    "test = TextBlob('Tangle Of Aspens')\n"
   ]
  },
  {
   "cell_type": "code",
   "execution_count": 23,
   "metadata": {},
   "outputs": [
    {
     "data": {
      "text/plain": [
       "[('Tangle', 'NN'), ('Of', 'IN'), ('Aspens', 'NNS')]"
      ]
     },
     "execution_count": 23,
     "metadata": {},
     "output_type": "execute_result"
    }
   ],
   "source": [
    "test.tags"
   ]
  },
  {
   "cell_type": "code",
   "execution_count": 27,
   "metadata": {},
   "outputs": [
    {
     "data": {
      "text/plain": [
       "0.0"
      ]
     },
     "execution_count": 27,
     "metadata": {},
     "output_type": "execute_result"
    }
   ],
   "source": [
    "test.sentiment[0]"
   ]
  },
  {
   "cell_type": "code",
   "execution_count": 34,
   "metadata": {},
   "outputs": [],
   "source": [
    "tok = TextBlob(\"We Have Got Love. \"\n",
    "               \"2 Da Beat Ch'yall. \")\n"
   ]
  },
  {
   "cell_type": "code",
   "execution_count": 38,
   "metadata": {},
   "outputs": [
    {
     "name": "stdout",
     "output_type": "stream",
     "text": [
      "Sentiment(polarity=0.5, subjectivity=0.6)\n",
      "Sentiment(polarity=0.0, subjectivity=0.0)\n"
     ]
    }
   ],
   "source": [
    "for sentence in tok.sentences:\n",
    "    print(sentence.sentiment)"
   ]
  },
  {
   "cell_type": "code",
   "execution_count": 55,
   "metadata": {},
   "outputs": [],
   "source": [
    "\n",
    "    \n",
    "polarity = []\n",
    "\n",
    "subjectivity = []\n",
    "\n",
    "for tittle in df['track']:\n",
    "    test3 = TextBlob(tittle)\n",
    "    test3= test.sentiment\n",
    "    polarity.append(test4[0])\n",
    "    subjectivity.append(test4[1])\n",
    "    \n",
    "df['polarity']= polarity\n",
    "df['subjectivity']= subjectivity\n",
    "        \n",
    "       \n",
    "        \n",
    "    \n",
    "    \n",
    "    "
   ]
  },
  {
   "cell_type": "code",
   "execution_count": 56,
   "metadata": {},
   "outputs": [
    {
     "data": {
      "text/html": [
       "<div>\n",
       "<style scoped>\n",
       "    .dataframe tbody tr th:only-of-type {\n",
       "        vertical-align: middle;\n",
       "    }\n",
       "\n",
       "    .dataframe tbody tr th {\n",
       "        vertical-align: top;\n",
       "    }\n",
       "\n",
       "    .dataframe thead th {\n",
       "        text-align: right;\n",
       "    }\n",
       "</style>\n",
       "<table border=\"1\" class=\"dataframe\">\n",
       "  <thead>\n",
       "    <tr style=\"text-align: right;\">\n",
       "      <th></th>\n",
       "      <th>artist</th>\n",
       "      <th>track</th>\n",
       "      <th>danceability</th>\n",
       "      <th>energy</th>\n",
       "      <th>key</th>\n",
       "      <th>loudness</th>\n",
       "      <th>mode</th>\n",
       "      <th>speechiness</th>\n",
       "      <th>acousticness</th>\n",
       "      <th>instrumentalness</th>\n",
       "      <th>liveness</th>\n",
       "      <th>valence</th>\n",
       "      <th>tempo</th>\n",
       "      <th>duration_ms</th>\n",
       "      <th>time_signature</th>\n",
       "      <th>polarity</th>\n",
       "      <th>subjectivity</th>\n",
       "    </tr>\n",
       "  </thead>\n",
       "  <tbody>\n",
       "    <tr>\n",
       "      <td>0</td>\n",
       "      <td>Karkkiautomaatti</td>\n",
       "      <td>Tanssi vaan</td>\n",
       "      <td>0.487</td>\n",
       "      <td>0.678</td>\n",
       "      <td>9.0</td>\n",
       "      <td>-7.780</td>\n",
       "      <td>1.0</td>\n",
       "      <td>0.0495</td>\n",
       "      <td>0.001300</td>\n",
       "      <td>0.0551</td>\n",
       "      <td>0.0846</td>\n",
       "      <td>0.870</td>\n",
       "      <td>149.940</td>\n",
       "      <td>157307.0</td>\n",
       "      <td>4.0</td>\n",
       "      <td>0.0</td>\n",
       "      <td>0.0</td>\n",
       "    </tr>\n",
       "    <tr>\n",
       "      <td>1</td>\n",
       "      <td>Hudson Mohawke</td>\n",
       "      <td>No One Could Ever</td>\n",
       "      <td>0.662</td>\n",
       "      <td>0.823</td>\n",
       "      <td>4.0</td>\n",
       "      <td>-1.711</td>\n",
       "      <td>0.0</td>\n",
       "      <td>0.0662</td>\n",
       "      <td>0.000045</td>\n",
       "      <td>0.9520</td>\n",
       "      <td>0.3430</td>\n",
       "      <td>0.621</td>\n",
       "      <td>177.745</td>\n",
       "      <td>138960.0</td>\n",
       "      <td>4.0</td>\n",
       "      <td>0.0</td>\n",
       "      <td>0.0</td>\n",
       "    </tr>\n",
       "    <tr>\n",
       "      <td>2</td>\n",
       "      <td>Der Mystic</td>\n",
       "      <td>Tangle Of Aspens</td>\n",
       "      <td>0.430</td>\n",
       "      <td>0.960</td>\n",
       "      <td>5.0</td>\n",
       "      <td>-7.741</td>\n",
       "      <td>0.0</td>\n",
       "      <td>0.0431</td>\n",
       "      <td>0.000725</td>\n",
       "      <td>0.9250</td>\n",
       "      <td>0.1230</td>\n",
       "      <td>0.225</td>\n",
       "      <td>140.001</td>\n",
       "      <td>514290.0</td>\n",
       "      <td>4.0</td>\n",
       "      <td>0.0</td>\n",
       "      <td>0.0</td>\n",
       "    </tr>\n",
       "    <tr>\n",
       "      <td>3</td>\n",
       "      <td>Sasha / Turbulence</td>\n",
       "      <td>We Have Got Love</td>\n",
       "      <td>0.663</td>\n",
       "      <td>0.677</td>\n",
       "      <td>3.0</td>\n",
       "      <td>-4.117</td>\n",
       "      <td>0.0</td>\n",
       "      <td>0.0755</td>\n",
       "      <td>0.245000</td>\n",
       "      <td>0.0000</td>\n",
       "      <td>0.3500</td>\n",
       "      <td>0.879</td>\n",
       "      <td>152.085</td>\n",
       "      <td>212413.0</td>\n",
       "      <td>4.0</td>\n",
       "      <td>0.0</td>\n",
       "      <td>0.0</td>\n",
       "    </tr>\n",
       "    <tr>\n",
       "      <td>4</td>\n",
       "      <td>Kris Kross</td>\n",
       "      <td>2 Da Beat Ch'yall</td>\n",
       "      <td>0.859</td>\n",
       "      <td>0.741</td>\n",
       "      <td>11.0</td>\n",
       "      <td>-12.329</td>\n",
       "      <td>0.0</td>\n",
       "      <td>0.2710</td>\n",
       "      <td>0.002760</td>\n",
       "      <td>0.0000</td>\n",
       "      <td>0.3250</td>\n",
       "      <td>0.529</td>\n",
       "      <td>98.082</td>\n",
       "      <td>221200.0</td>\n",
       "      <td>4.0</td>\n",
       "      <td>0.0</td>\n",
       "      <td>0.0</td>\n",
       "    </tr>\n",
       "  </tbody>\n",
       "</table>\n",
       "</div>"
      ],
      "text/plain": [
       "               artist              track  danceability  energy   key  \\\n",
       "0    Karkkiautomaatti        Tanssi vaan         0.487   0.678   9.0   \n",
       "1      Hudson Mohawke  No One Could Ever         0.662   0.823   4.0   \n",
       "2          Der Mystic   Tangle Of Aspens         0.430   0.960   5.0   \n",
       "3  Sasha / Turbulence   We Have Got Love         0.663   0.677   3.0   \n",
       "4          Kris Kross  2 Da Beat Ch'yall         0.859   0.741  11.0   \n",
       "\n",
       "   loudness  mode  speechiness  acousticness  instrumentalness  liveness  \\\n",
       "0    -7.780   1.0       0.0495      0.001300            0.0551    0.0846   \n",
       "1    -1.711   0.0       0.0662      0.000045            0.9520    0.3430   \n",
       "2    -7.741   0.0       0.0431      0.000725            0.9250    0.1230   \n",
       "3    -4.117   0.0       0.0755      0.245000            0.0000    0.3500   \n",
       "4   -12.329   0.0       0.2710      0.002760            0.0000    0.3250   \n",
       "\n",
       "   valence    tempo  duration_ms  time_signature  polarity  subjectivity  \n",
       "0    0.870  149.940     157307.0             4.0       0.0           0.0  \n",
       "1    0.621  177.745     138960.0             4.0       0.0           0.0  \n",
       "2    0.225  140.001     514290.0             4.0       0.0           0.0  \n",
       "3    0.879  152.085     212413.0             4.0       0.0           0.0  \n",
       "4    0.529   98.082     221200.0             4.0       0.0           0.0  "
      ]
     },
     "execution_count": 56,
     "metadata": {},
     "output_type": "execute_result"
    }
   ],
   "source": [
    "df.head()"
   ]
  },
  {
   "cell_type": "code",
   "execution_count": 53,
   "metadata": {},
   "outputs": [
    {
     "data": {
      "text/html": [
       "<div>\n",
       "<style scoped>\n",
       "    .dataframe tbody tr th:only-of-type {\n",
       "        vertical-align: middle;\n",
       "    }\n",
       "\n",
       "    .dataframe tbody tr th {\n",
       "        vertical-align: top;\n",
       "    }\n",
       "\n",
       "    .dataframe thead th {\n",
       "        text-align: right;\n",
       "    }\n",
       "</style>\n",
       "<table border=\"1\" class=\"dataframe\">\n",
       "  <thead>\n",
       "    <tr style=\"text-align: right;\">\n",
       "      <th></th>\n",
       "      <th>danceability</th>\n",
       "      <th>energy</th>\n",
       "      <th>key</th>\n",
       "      <th>loudness</th>\n",
       "      <th>mode</th>\n",
       "      <th>speechiness</th>\n",
       "      <th>acousticness</th>\n",
       "      <th>instrumentalness</th>\n",
       "      <th>liveness</th>\n",
       "      <th>valence</th>\n",
       "      <th>tempo</th>\n",
       "      <th>duration_ms</th>\n",
       "      <th>time_signature</th>\n",
       "      <th>polarity</th>\n",
       "      <th>subjectivity</th>\n",
       "    </tr>\n",
       "  </thead>\n",
       "  <tbody>\n",
       "    <tr>\n",
       "      <td>count</td>\n",
       "      <td>6411.000000</td>\n",
       "      <td>6411.000000</td>\n",
       "      <td>6411.000000</td>\n",
       "      <td>6411.000000</td>\n",
       "      <td>6411.000000</td>\n",
       "      <td>6411.000000</td>\n",
       "      <td>6411.000000</td>\n",
       "      <td>6411.000000</td>\n",
       "      <td>6411.000000</td>\n",
       "      <td>6411.00000</td>\n",
       "      <td>6411.000000</td>\n",
       "      <td>6.411000e+03</td>\n",
       "      <td>6411.000000</td>\n",
       "      <td>6411.0</td>\n",
       "      <td>6411.0</td>\n",
       "    </tr>\n",
       "    <tr>\n",
       "      <td>mean</td>\n",
       "      <td>0.541763</td>\n",
       "      <td>0.633402</td>\n",
       "      <td>5.318359</td>\n",
       "      <td>-9.370563</td>\n",
       "      <td>0.662923</td>\n",
       "      <td>0.084727</td>\n",
       "      <td>0.289201</td>\n",
       "      <td>0.228111</td>\n",
       "      <td>0.213685</td>\n",
       "      <td>0.50441</td>\n",
       "      <td>121.839421</td>\n",
       "      <td>2.496036e+05</td>\n",
       "      <td>3.894088</td>\n",
       "      <td>0.0</td>\n",
       "      <td>0.0</td>\n",
       "    </tr>\n",
       "    <tr>\n",
       "      <td>std</td>\n",
       "      <td>0.180990</td>\n",
       "      <td>0.255969</td>\n",
       "      <td>3.573416</td>\n",
       "      <td>4.719068</td>\n",
       "      <td>0.472748</td>\n",
       "      <td>0.104831</td>\n",
       "      <td>0.331591</td>\n",
       "      <td>0.348067</td>\n",
       "      <td>0.186707</td>\n",
       "      <td>0.26343</td>\n",
       "      <td>29.624803</td>\n",
       "      <td>1.170440e+05</td>\n",
       "      <td>0.443551</td>\n",
       "      <td>0.0</td>\n",
       "      <td>0.0</td>\n",
       "    </tr>\n",
       "    <tr>\n",
       "      <td>min</td>\n",
       "      <td>0.000000</td>\n",
       "      <td>0.000000</td>\n",
       "      <td>0.000000</td>\n",
       "      <td>-50.071000</td>\n",
       "      <td>0.000000</td>\n",
       "      <td>0.000000</td>\n",
       "      <td>0.000000</td>\n",
       "      <td>0.000000</td>\n",
       "      <td>0.000000</td>\n",
       "      <td>0.00000</td>\n",
       "      <td>0.000000</td>\n",
       "      <td>8.040000e+03</td>\n",
       "      <td>0.000000</td>\n",
       "      <td>0.0</td>\n",
       "      <td>0.0</td>\n",
       "    </tr>\n",
       "    <tr>\n",
       "      <td>25%</td>\n",
       "      <td>0.418000</td>\n",
       "      <td>0.445000</td>\n",
       "      <td>2.000000</td>\n",
       "      <td>-11.688000</td>\n",
       "      <td>0.000000</td>\n",
       "      <td>0.035000</td>\n",
       "      <td>0.006645</td>\n",
       "      <td>0.000004</td>\n",
       "      <td>0.096300</td>\n",
       "      <td>0.29000</td>\n",
       "      <td>99.232000</td>\n",
       "      <td>1.830245e+05</td>\n",
       "      <td>4.000000</td>\n",
       "      <td>0.0</td>\n",
       "      <td>0.0</td>\n",
       "    </tr>\n",
       "    <tr>\n",
       "      <td>50%</td>\n",
       "      <td>0.555000</td>\n",
       "      <td>0.673000</td>\n",
       "      <td>5.000000</td>\n",
       "      <td>-8.467000</td>\n",
       "      <td>1.000000</td>\n",
       "      <td>0.047500</td>\n",
       "      <td>0.124000</td>\n",
       "      <td>0.002000</td>\n",
       "      <td>0.135000</td>\n",
       "      <td>0.50700</td>\n",
       "      <td>121.071000</td>\n",
       "      <td>2.293600e+05</td>\n",
       "      <td>4.000000</td>\n",
       "      <td>0.0</td>\n",
       "      <td>0.0</td>\n",
       "    </tr>\n",
       "    <tr>\n",
       "      <td>75%</td>\n",
       "      <td>0.678000</td>\n",
       "      <td>0.854500</td>\n",
       "      <td>9.000000</td>\n",
       "      <td>-6.025500</td>\n",
       "      <td>1.000000</td>\n",
       "      <td>0.082950</td>\n",
       "      <td>0.556000</td>\n",
       "      <td>0.458500</td>\n",
       "      <td>0.279500</td>\n",
       "      <td>0.72300</td>\n",
       "      <td>139.628000</td>\n",
       "      <td>2.884670e+05</td>\n",
       "      <td>4.000000</td>\n",
       "      <td>0.0</td>\n",
       "      <td>0.0</td>\n",
       "    </tr>\n",
       "    <tr>\n",
       "      <td>max</td>\n",
       "      <td>0.983000</td>\n",
       "      <td>0.999000</td>\n",
       "      <td>11.000000</td>\n",
       "      <td>4.364000</td>\n",
       "      <td>1.000000</td>\n",
       "      <td>0.954000</td>\n",
       "      <td>0.996000</td>\n",
       "      <td>0.992000</td>\n",
       "      <td>0.995000</td>\n",
       "      <td>0.98600</td>\n",
       "      <td>217.850000</td>\n",
       "      <td>1.786080e+06</td>\n",
       "      <td>5.000000</td>\n",
       "      <td>0.0</td>\n",
       "      <td>0.0</td>\n",
       "    </tr>\n",
       "  </tbody>\n",
       "</table>\n",
       "</div>"
      ],
      "text/plain": [
       "       danceability       energy          key     loudness         mode  \\\n",
       "count   6411.000000  6411.000000  6411.000000  6411.000000  6411.000000   \n",
       "mean       0.541763     0.633402     5.318359    -9.370563     0.662923   \n",
       "std        0.180990     0.255969     3.573416     4.719068     0.472748   \n",
       "min        0.000000     0.000000     0.000000   -50.071000     0.000000   \n",
       "25%        0.418000     0.445000     2.000000   -11.688000     0.000000   \n",
       "50%        0.555000     0.673000     5.000000    -8.467000     1.000000   \n",
       "75%        0.678000     0.854500     9.000000    -6.025500     1.000000   \n",
       "max        0.983000     0.999000    11.000000     4.364000     1.000000   \n",
       "\n",
       "       speechiness  acousticness  instrumentalness     liveness     valence  \\\n",
       "count  6411.000000   6411.000000       6411.000000  6411.000000  6411.00000   \n",
       "mean      0.084727      0.289201          0.228111     0.213685     0.50441   \n",
       "std       0.104831      0.331591          0.348067     0.186707     0.26343   \n",
       "min       0.000000      0.000000          0.000000     0.000000     0.00000   \n",
       "25%       0.035000      0.006645          0.000004     0.096300     0.29000   \n",
       "50%       0.047500      0.124000          0.002000     0.135000     0.50700   \n",
       "75%       0.082950      0.556000          0.458500     0.279500     0.72300   \n",
       "max       0.954000      0.996000          0.992000     0.995000     0.98600   \n",
       "\n",
       "             tempo   duration_ms  time_signature  polarity  subjectivity  \n",
       "count  6411.000000  6.411000e+03     6411.000000    6411.0        6411.0  \n",
       "mean    121.839421  2.496036e+05        3.894088       0.0           0.0  \n",
       "std      29.624803  1.170440e+05        0.443551       0.0           0.0  \n",
       "min       0.000000  8.040000e+03        0.000000       0.0           0.0  \n",
       "25%      99.232000  1.830245e+05        4.000000       0.0           0.0  \n",
       "50%     121.071000  2.293600e+05        4.000000       0.0           0.0  \n",
       "75%     139.628000  2.884670e+05        4.000000       0.0           0.0  \n",
       "max     217.850000  1.786080e+06        5.000000       0.0           0.0  "
      ]
     },
     "execution_count": 53,
     "metadata": {},
     "output_type": "execute_result"
    }
   ],
   "source": [
    " df.describe()"
   ]
  },
  {
   "cell_type": "code",
   "execution_count": null,
   "metadata": {},
   "outputs": [],
   "source": []
  }
 ],
 "metadata": {
  "kernelspec": {
   "display_name": "Python 3",
   "language": "python",
   "name": "python3"
  },
  "language_info": {
   "codemirror_mode": {
    "name": "ipython",
    "version": 3
   },
   "file_extension": ".py",
   "mimetype": "text/x-python",
   "name": "python",
   "nbconvert_exporter": "python",
   "pygments_lexer": "ipython3",
   "version": "3.7.4"
  }
 },
 "nbformat": 4,
 "nbformat_minor": 2
}
